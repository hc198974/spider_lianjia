{
 "cells": [
  {
   "cell_type": "code",
   "execution_count": 2,
   "metadata": {
    "tags": []
   },
   "outputs": [],
   "source": [
    "import pandas as pd\n",
    "import json\n",
    "from pandas import Series,DataFrame\n",
    "import re\n",
    "import datetime\n",
    "pd.set_option('display.max_rows',20)\n",
    "# #设置显示全部列，不省略\n",
    "pd.set_option('display.max_columns',20)\n",
    "\n",
    "item=[]\n",
    "for line in open('lianjia.json','r',encoding='utf-8'):\n",
    "    item.append(json.loads(line))\n",
    "    \n",
    "df=DataFrame(item)"
   ]
  },
  {
   "cell_type": "code",
   "execution_count": 3,
   "metadata": {
    "tags": []
   },
   "outputs": [],
   "source": [
    "for i in range(0,len(df)):\n",
    "    result=df.iloc[i]\n",
    "    if re.search(r'\\d+(\\.\\d+)?(平米)',result[2]) is None:\n",
    "        print(df.iloc[i])\n",
    "        df.drop([i])"
   ]
  },
  {
   "cell_type": "code",
   "execution_count": 4,
   "metadata": {
    "tags": []
   },
   "outputs": [],
   "source": [
    "getarea=lambda x: float(re.search(r\"\\d+(\\.\\d+)?\",x).group())\n",
    "df['area']=df['area'].apply(getarea)\n",
    "tofloat=lambda x:float(x)\n",
    "df['unitPrice']=df['unitPrice'].apply(tofloat)\n",
    "df['totalPrice']=df['totalPrice'].apply(tofloat)\n",
    "df['dealDate']=pd.to_datetime(df['dealDate'])\n",
    "df['dealCycle']=df['dealCycle'].map(lambda x:int(re.search('\\d+',x).group()))\n"
   ]
  },
  {
   "cell_type": "code",
   "execution_count": 5,
   "metadata": {},
   "outputs": [
    {
     "output_type": "execute_result",
     "data": {
      "text/plain": [
       "<bound method NDFrame.head of        title  room    area   dealDate  totalPrice  unitPrice  dealCycle\n",
       "0       城市印象  2室1厅   84.50 2019-03-26       119.0    14024.0        227\n",
       "1       城市印象  2室2厅   91.62 2019-03-20       174.0    18992.0        242\n",
       "2       城市印象  2室1厅   85.34 2019-03-09       107.0    12480.0        120\n",
       "3       城市印象  2室2厅   84.50 2019-03-05       115.0    13610.0        119\n",
       "4       城市印象  2室2厅   88.51 2019-02-27       189.0    21354.0        235\n",
       "...      ...   ...     ...        ...         ...        ...        ...\n",
       "26298  新希望家园  2室1厅   56.07 2020-02-26        45.0     7862.0        268\n",
       "26299  新希望家园  1室1厅   33.73 2020-02-22        28.0     8302.0        455\n",
       "26300  新希望家园  3室1厅  103.00 2020-02-21        97.0     9350.0         36\n",
       "26301  新希望家园  2室1厅   78.00 2020-01-11        68.0     8718.0        138\n",
       "26302  新希望家园  2室1厅   76.03 2020-01-08        77.0    10128.0         88\n",
       "\n",
       "[26303 rows x 7 columns]>"
      ]
     },
     "metadata": {},
     "execution_count": 5
    }
   ],
   "source": [
    "df.head"
   ]
  },
  {
   "cell_type": "code",
   "execution_count": 12,
   "metadata": {},
   "outputs": [],
   "source": [
    "df_wu=df[df['title'].apply(lambda x: '第五郡' in x and '公寓' not in x)]"
   ]
  },
  {
   "cell_type": "code",
   "execution_count": 36,
   "metadata": {},
   "outputs": [],
   "source": [
    "df_wu=df_wu.sort_values(by='dealDate')\n",
    "df_wu=df_wu.reset_index(drop=True)"
   ]
  },
  {
   "cell_type": "code",
   "execution_count": 37,
   "metadata": {},
   "outputs": [
    {
     "output_type": "execute_result",
     "data": {
      "text/plain": [
       "     title  room    area   dealDate  totalPrice  unitPrice  dealCycle\n",
       "0   第五郡五号地  2室2厅   90.28 2016-03-23       158.0    17502.0         37\n",
       "1   第五郡五号地  3室2厅  122.49 2016-05-05       224.0    18247.0         62\n",
       "2   第五郡五号地  3室2厅  136.00 2016-07-17       230.0    16912.0        116\n",
       "3   第五郡五号地  4室3厅  125.04 2016-07-22       229.0    18315.0        138\n",
       "4   第五郡五号地  2室2厅   89.92 2016-08-05       150.0    16682.0         75\n",
       "..     ...   ...     ...        ...         ...        ...        ...\n",
       "86  第五郡五号地  2室1厅   86.10 2021-04-19       218.0    25320.0        203\n",
       "87  第五郡五号地  4室2厅  170.62 2021-04-23       473.0    27723.0        308\n",
       "88  第五郡五号地  4室2厅  130.98 2021-04-24       372.0    28402.0         66\n",
       "89  第五郡五号地  3室1厅  136.00 2021-04-30       381.0    27978.0        105\n",
       "90  第五郡五号地  2室1厅   86.10 2021-05-18       215.0    24971.0        591\n",
       "\n",
       "[91 rows x 7 columns]"
      ],
      "text/html": "<div>\n<style scoped>\n    .dataframe tbody tr th:only-of-type {\n        vertical-align: middle;\n    }\n\n    .dataframe tbody tr th {\n        vertical-align: top;\n    }\n\n    .dataframe thead th {\n        text-align: right;\n    }\n</style>\n<table border=\"1\" class=\"dataframe\">\n  <thead>\n    <tr style=\"text-align: right;\">\n      <th></th>\n      <th>title</th>\n      <th>room</th>\n      <th>area</th>\n      <th>dealDate</th>\n      <th>totalPrice</th>\n      <th>unitPrice</th>\n      <th>dealCycle</th>\n    </tr>\n  </thead>\n  <tbody>\n    <tr>\n      <th>0</th>\n      <td>第五郡五号地</td>\n      <td>2室2厅</td>\n      <td>90.28</td>\n      <td>2016-03-23</td>\n      <td>158.0</td>\n      <td>17502.0</td>\n      <td>37</td>\n    </tr>\n    <tr>\n      <th>1</th>\n      <td>第五郡五号地</td>\n      <td>3室2厅</td>\n      <td>122.49</td>\n      <td>2016-05-05</td>\n      <td>224.0</td>\n      <td>18247.0</td>\n      <td>62</td>\n    </tr>\n    <tr>\n      <th>2</th>\n      <td>第五郡五号地</td>\n      <td>3室2厅</td>\n      <td>136.00</td>\n      <td>2016-07-17</td>\n      <td>230.0</td>\n      <td>16912.0</td>\n      <td>116</td>\n    </tr>\n    <tr>\n      <th>3</th>\n      <td>第五郡五号地</td>\n      <td>4室3厅</td>\n      <td>125.04</td>\n      <td>2016-07-22</td>\n      <td>229.0</td>\n      <td>18315.0</td>\n      <td>138</td>\n    </tr>\n    <tr>\n      <th>4</th>\n      <td>第五郡五号地</td>\n      <td>2室2厅</td>\n      <td>89.92</td>\n      <td>2016-08-05</td>\n      <td>150.0</td>\n      <td>16682.0</td>\n      <td>75</td>\n    </tr>\n    <tr>\n      <th>...</th>\n      <td>...</td>\n      <td>...</td>\n      <td>...</td>\n      <td>...</td>\n      <td>...</td>\n      <td>...</td>\n      <td>...</td>\n    </tr>\n    <tr>\n      <th>86</th>\n      <td>第五郡五号地</td>\n      <td>2室1厅</td>\n      <td>86.10</td>\n      <td>2021-04-19</td>\n      <td>218.0</td>\n      <td>25320.0</td>\n      <td>203</td>\n    </tr>\n    <tr>\n      <th>87</th>\n      <td>第五郡五号地</td>\n      <td>4室2厅</td>\n      <td>170.62</td>\n      <td>2021-04-23</td>\n      <td>473.0</td>\n      <td>27723.0</td>\n      <td>308</td>\n    </tr>\n    <tr>\n      <th>88</th>\n      <td>第五郡五号地</td>\n      <td>4室2厅</td>\n      <td>130.98</td>\n      <td>2021-04-24</td>\n      <td>372.0</td>\n      <td>28402.0</td>\n      <td>66</td>\n    </tr>\n    <tr>\n      <th>89</th>\n      <td>第五郡五号地</td>\n      <td>3室1厅</td>\n      <td>136.00</td>\n      <td>2021-04-30</td>\n      <td>381.0</td>\n      <td>27978.0</td>\n      <td>105</td>\n    </tr>\n    <tr>\n      <th>90</th>\n      <td>第五郡五号地</td>\n      <td>2室1厅</td>\n      <td>86.10</td>\n      <td>2021-05-18</td>\n      <td>215.0</td>\n      <td>24971.0</td>\n      <td>591</td>\n    </tr>\n  </tbody>\n</table>\n<p>91 rows × 7 columns</p>\n</div>"
     },
     "metadata": {},
     "execution_count": 37
    }
   ],
   "source": [
    "df_wu"
   ]
  },
  {
   "cell_type": "code",
   "execution_count": 40,
   "metadata": {},
   "outputs": [
    {
     "output_type": "execute_result",
     "data": {
      "text/plain": [
       "0             城市印象\n",
       "27             香炉礁\n",
       "41          龙畔金泉五期\n",
       "55       龙畔金泉五期K4区\n",
       "130         万科假日风景\n",
       "           ...    \n",
       "26000         朗悦华园\n",
       "26040       福佳机场前院\n",
       "26048       亿达普罗旺斯\n",
       "26085          东港第\n",
       "26115         东城国际\n",
       "Name: title, Length: 259, dtype: object"
      ]
     },
     "metadata": {},
     "execution_count": 40
    }
   ],
   "source": [
    "df['title'].drop_duplicates()"
   ]
  },
  {
   "cell_type": "code",
   "execution_count": null,
   "metadata": {},
   "outputs": [],
   "source": []
  }
 ],
 "metadata": {
  "kernelspec": {
   "name": "python385jvsc74a57bd073e03da126b73bfff3642ec5261d56fa25c444ea595de51041687efaa60dda41",
   "display_name": "Python 3.8.5 64-bit ('base': conda)"
  },
  "language_info": {
   "codemirror_mode": {
    "name": "ipython",
    "version": 3
   },
   "file_extension": ".py",
   "mimetype": "text/x-python",
   "name": "python",
   "nbconvert_exporter": "python",
   "pygments_lexer": "ipython3",
   "version": "3.8.5"
  }
 },
 "nbformat": 4,
 "nbformat_minor": 2
}