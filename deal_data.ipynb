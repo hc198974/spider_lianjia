{
 "cells": [
  {
   "cell_type": "code",
   "execution_count": 42,
   "metadata": {
    "tags": []
   },
   "outputs": [],
   "source": [
    "import pandas as pd\n",
    "import json\n",
    "from pandas import Series,DataFrame\n",
    "import re\n",
    "import datetime\n",
    "pd.set_option('display.max_rows',20)\n",
    "# #设置显示全部列，不省略\n",
    "pd.set_option('display.max_columns',20)\n",
    "\n",
    "item=[]\n",
    "for line in open('lianjia.json','r',encoding='utf-8'):\n",
    "    item.append(json.loads(line))\n",
    "    \n",
    "df=DataFrame(item)"
   ]
  },
  {
   "cell_type": "code",
   "execution_count": 43,
   "metadata": {
    "tags": []
   },
   "outputs": [],
   "source": [
    "for i in range(0,len(df)):\n",
    "    result=df.iloc[i]\n",
    "    if re.search(r'\\d+(\\.\\d+)?(平米)',result[2]) is None:\n",
    "        print(df.iloc[i])\n",
    "        df.drop([i])"
   ]
  },
  {
   "cell_type": "code",
   "execution_count": 44,
   "metadata": {
    "tags": []
   },
   "outputs": [],
   "source": [
    "getarea=lambda x: float(re.search(r\"\\d+(\\.\\d+)?\",x).group())\n",
    "df['area']=df['area'].apply(getarea)\n",
    "tofloat=lambda x:float(x)\n",
    "df['unitPrice']=df['unitPrice'].apply(tofloat)\n",
    "df['totalPrice']=df['totalPrice'].apply(tofloat)\n",
    "df['dealDate']=pd.to_datetime(df['dealDate'])\n",
    "df['dealCycle']=df['dealCycle'].map(lambda x:int(re.search('\\d+',x).group()))\n"
   ]
  },
  {
   "cell_type": "code",
   "execution_count": 47,
   "metadata": {},
   "outputs": [
    {
     "output_type": "execute_result",
     "data": {
      "text/plain": [
       "title                 object\n",
       "room                  object\n",
       "area                 float64\n",
       "dealDate      datetime64[ns]\n",
       "totalPrice           float64\n",
       "unitPrice            float64\n",
       "dealCycle              int64\n",
       "dtype: object"
      ]
     },
     "metadata": {},
     "execution_count": 47
    }
   ],
   "source": [
    "df.dtypes"
   ]
  },
  {
   "cell_type": "code",
   "execution_count": null,
   "metadata": {},
   "outputs": [],
   "source": []
  }
 ],
 "metadata": {
  "kernelspec": {
   "name": "python388jvsc74a57bd073e03da126b73bfff3642ec5261d56fa25c444ea595de51041687efaa60dda41",
   "display_name": "Python 3.8.8 64-bit ('base': conda)"
  },
  "language_info": {
   "codemirror_mode": {
    "name": "ipython",
    "version": 3
   },
   "file_extension": ".py",
   "mimetype": "text/x-python",
   "name": "python",
   "nbconvert_exporter": "python",
   "pygments_lexer": "ipython3",
   "version": "3.8.8"
  }
 },
 "nbformat": 4,
 "nbformat_minor": 2
}