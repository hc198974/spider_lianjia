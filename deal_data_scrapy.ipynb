{
 "cells": [
  {
   "cell_type": "code",
   "execution_count": 1,
   "source": [
    "import pandas as pd\r\n",
    "from pandas import Series,DataFrame\r\n",
    "import re\r\n",
    "import datetime\r\n",
    "from bs4 import BeautifulSoup\r\n",
    "import requests\r\n",
    "import pymongo\r\n",
    "\r\n",
    "#寻找小区对应的区域和建造年份\r\n",
    "#改进后的mongodb数据库里已经包含有quyu和district了\r\n",
    "def get_data(x):\r\n",
    "    try:\r\n",
    "        html=requests.get('https://dl.lianjia.com/xiaoqu/rs'+x)\r\n",
    "        soup=BeautifulSoup(html.text,'lxml')\r\n",
    "        s=soup.select('.info .title a')\r\n",
    "        for i in range(0,len(s)):\r\n",
    "            if s[i].string==x:\r\n",
    "                district=soup.select('.info .positionInfo .district')[i].string\r\n",
    "                bizcircle=soup.select('.info .positionInfo .bizcircle')[i].string\r\n",
    "                temp=soup.select('.info .positionInfo')[i].get_text()\r\n",
    "                nianfen=re.search('\\d+',temp).group()\r\n",
    "                return x+' '+district+' '+bizcircle+' '+ str(nianfen)\r\n",
    "        else:\r\n",
    "            return None\r\n",
    "    except IndexError as e:\r\n",
    "        print(x)\r\n",
    "\r\n",
    "pd.set_option('display.max_rows',None)\r\n",
    "# #设置显示全部列，不省略\r\n",
    "pd.set_option('display.max_columns',None)\r\n",
    "\r\n",
    "\r\n",
    "#将pymongo数据转换成Dataframe\r\n",
    "myclient = pymongo.MongoClient(\"mongodb://localhost:27017/\")\r\n",
    "mydb = myclient[\"db_lianjia\"]\r\n",
    "mycol = mydb[\"chengjiao\"]\r\n",
    "\r\n",
    "x = list(mycol.find())\r\n",
    "df=DataFrame(x)\r\n",
    "#把没用的id删除掉\r\n",
    "df=df.drop('_id',axis=1)    \r\n",
    "df.drop_duplicates(inplace=True)\r\n",
    "#把车位这一行删掉\r\n",
    "df.drop(index=df[df['area']=='车位'].index,inplace=True) \r\n",
    "# df.dropna(how='all',inplace=True)"
   ],
   "outputs": [],
   "metadata": {
    "tags": []
   }
  },
  {
   "cell_type": "code",
   "execution_count": 2,
   "source": [
    "df['area']=df['area'].apply(lambda x: float(re.search(\"\\d+(\\.\\d+)?\",x).group()))\r\n",
    "tofloat=lambda x:float(x)\r\n",
    "df['unitPrice']=df['unitPrice'].apply(tofloat)\r\n",
    "df['totalPrice']=df['totalPrice'].apply(tofloat)\r\n",
    "df['dealDate']=pd.to_datetime(df['dealDate'])\r\n",
    "df['dealCycle']=df['dealCycle'].map(lambda x:int(re.search('\\d+',x).group()))\r\n",
    "df['guaPai']=df['guaPai'].apply(lambda x: float(re.search(\"\\d+(\\.\\d+)?\",x).group()))"
   ],
   "outputs": [],
   "metadata": {}
  },
  {
   "cell_type": "code",
   "execution_count": null,
   "source": [
    "#找出挂牌价和成交价差距大的房子\r\n",
    "f=df[((df['guaPai']-df['totalPrice'])/df['guaPai']>0.05) & (df['dealDate'].map(lambda x:x.year)==2021)].sort_values(by=['title','dealDate'])\r\n",
    "f['chazhi']=round((f['guaPai']-f['totalPrice'])/f['guaPai'],2)"
   ],
   "outputs": [],
   "metadata": {}
  },
  {
   "cell_type": "code",
   "execution_count": null,
   "source": [
    "f[(f['dealDate'].map(lambda x:x.year)==2021) & (f['dealDate'].map(lambda x:x.month)==7)].sort_values(by='chazhi',ascending=False)"
   ],
   "outputs": [],
   "metadata": {}
  },
  {
   "cell_type": "code",
   "execution_count": null,
   "source": [
    "#找出各个销售的销售量，目前看工人村单个销售卖的还真多\r\n",
    "#功能保存，链家上的销售未必就是卖房的销售\r\n",
    "s=df.groupby(['seller'])[['seller']].count()\r\n",
    "s.index.name='num'\r\n",
    "s=s.sort_values(by=['seller'],ascending=False)"
   ],
   "outputs": [],
   "metadata": {}
  },
  {
   "cell_type": "code",
   "execution_count": null,
   "source": [
    "#找出各小区的销售数量，先忽略时间\r\n",
    "# xiaoqu=df.groupby(['title'])[['title']].count()\r\n",
    "xiaoqu=df['title'].groupby([df['title'],df['dealDate'].apply(lambda x:x.year)]).count()\r\n",
    "xiaoqu.index.names=['title','year']\r\n",
    "result=list(set(list(map(lambda x:re.search('悦泰(\\w+)?',x),xiaoqu.index.levels[0]))))\r\n",
    "result.remove(None)\r\n",
    "r=[i.group() for i in result]"
   ],
   "outputs": [],
   "metadata": {
    "pycharm": {
     "name": "#%%\n"
    }
   }
  },
  {
   "cell_type": "code",
   "execution_count": null,
   "source": [
    "s1=xiaoqu.loc[r[1]]\r\n",
    "s2=xiaoqu.loc[r[0]]\r\n",
    "s1.name=r[1]\r\n",
    "s2.name=r[0]\r\n",
    "print(s1,s2)\r\n"
   ],
   "outputs": [],
   "metadata": {}
  },
  {
   "cell_type": "code",
   "execution_count": null,
   "source": [
    "#找出某个小区的销售情况\r\n",
    "print(get_data('第五郡五号地'))\r\n",
    "df_wu=df[df['title'].apply(lambda x: '第五郡' in x and '公寓' not in x)]\r\n",
    "df_wu=df_wu.sort_values(by='dealDate')\r\n",
    "df_wu=df_wu.reset_index(drop=True)\r\n",
    "func=lambda x:str((x.year)*100+(x.month))[0:4]+'-'+str((x.year)*100+(x.month))[4:]\r\n",
    "df_wu['month']=df_wu['dealDate'].map(func)\r\n",
    "df_wu['title'].groupby(df_wu['month']).count()\r\n",
    "# df[df['title']=='金海花园西园'][['title']].count()"
   ],
   "outputs": [],
   "metadata": {}
  },
  {
   "cell_type": "code",
   "execution_count": null,
   "source": [
    "#找出小区每年均价，按月标本太少，不太准确\r\n",
    "df_wu['unitPrice'].groupby(df_wu['dealDate'].map(lambda x:x.year)).describe()"
   ],
   "outputs": [],
   "metadata": {}
  },
  {
   "cell_type": "code",
   "execution_count": null,
   "source": [
    "#找出小区的成交周期\r\n",
    "df_wu['dealCycle'].groupby(df_wu['dealDate'].apply(lambda x:x.year)).describe()"
   ],
   "outputs": [],
   "metadata": {}
  },
  {
   "cell_type": "code",
   "execution_count": null,
   "source": [
    "#找出房子里只有一天成交周期的房子\r\n",
    "df[(df['dealCycle'].map(lambda x:x==1)) & (df['dealDate'].apply(lambda x:x.year)==2021)].head()"
   ],
   "outputs": [],
   "metadata": {}
  },
  {
   "cell_type": "code",
   "execution_count": null,
   "source": [
    "#备用功能        \r\n",
    "# list=[]\r\n",
    "# for i in df['title'].drop_duplicates():\r\n",
    "#     g=get_data(i)\r\n",
    "#     if g is not None:\r\n",
    "#         list.append(g)\r\n",
    "\r\n",
    "# %run main.py\r\n",
    "#df.to_json(path_or_buf='data/test.json',orient='index',force_ascii=False)\r\n",
    "#检查area数据\r\n",
    "# for i in range(0,len(df)):\r\n",
    "#     result=df.iloc[i]\r\n",
    "#     if re.search(r'\\d+(\\.\\d+)?(平米)',result[2]) is None:\r\n",
    "#         print(df.iloc[i])\r\n",
    "#         df.drop([i])\r\n",
    "# #检查挂牌数据\r\n",
    "# for i in range(0,len(df)):\r\n",
    "#     result=df.iloc[i]\r\n",
    "#     if re.search('挂牌*',result[7]) is None:\r\n",
    "#         print(str(i))\r\n",
    "        # df.drop([i])"
   ],
   "outputs": [],
   "metadata": {}
  },
  {
   "cell_type": "code",
   "execution_count": null,
   "source": [
    "#根据已有数据算全部小区\r\n",
    "dd=df['unitPrice'].groupby(df['dealDate'].apply(lambda x:x.year)).describe()\r\n",
    "dd[dd.index>2015]"
   ],
   "outputs": [],
   "metadata": {}
  },
  {
   "cell_type": "code",
   "execution_count": 4,
   "source": [
    "#2021年每月成交数\r\n",
    "count=df['quyu'].groupby([df['quyu'].apply(lambda x:x)!='',df['dealDate'].apply(lambda x:x.year)==2021,df['dealDate'].apply(lambda x:x.month)]).count()\r\n",
    "s=count[True][True]\r\n",
    "s"
   ],
   "outputs": [
    {
     "output_type": "execute_result",
     "data": {
      "text/plain": [
       "dealDate\n",
       "1    1371\n",
       "2    1544\n",
       "3    4052\n",
       "4    3178\n",
       "5    2627\n",
       "6     623\n",
       "7    2504\n",
       "8    1834\n",
       "9      37\n",
       "Name: quyu, dtype: int64"
      ]
     },
     "metadata": {},
     "execution_count": 4
    }
   ],
   "metadata": {}
  },
  {
   "cell_type": "code",
   "execution_count": null,
   "source": [
    "#2021年每月均价\r\n",
    "count=df['unitPrice'].groupby([df['dealDate'].apply(lambda x:x.year)==2021,df['dealDate'].apply(lambda x:x.month)]).mean()\r\n",
    "count[True]"
   ],
   "outputs": [],
   "metadata": {}
  },
  {
   "cell_type": "code",
   "execution_count": null,
   "source": [
    "#2021年每月成交面积\r\n",
    "count=df['area'].groupby([df['dealDate'].apply(lambda x:x.year)==2021,df['dealDate'].apply(lambda x:x.month)]).sum()\r\n",
    "count[True]"
   ],
   "outputs": [],
   "metadata": {}
  },
  {
   "cell_type": "code",
   "execution_count": 3,
   "source": [
    "count=df['title'].groupby([df['dealDate'].apply(lambda x:x.year)==2021,df['dealDate'].apply(lambda x:x.month)==9,df['dealDate'].apply(lambda x:x.day)]).count()\r\n",
    "count[True][True]"
   ],
   "outputs": [
    {
     "output_type": "execute_result",
     "data": {
      "text/plain": [
       "dealDate\n",
       "1    37\n",
       "Name: title, dtype: int64"
      ]
     },
     "metadata": {},
     "execution_count": 3
    }
   ],
   "metadata": {}
  }
 ],
 "metadata": {
  "kernelspec": {
   "name": "python3",
   "display_name": "Python 3.8.10 64-bit ('base': conda)"
  },
  "language_info": {
   "codemirror_mode": {
    "name": "ipython",
    "version": 3
   },
   "file_extension": ".py",
   "mimetype": "text/x-python",
   "name": "python",
   "nbconvert_exporter": "python",
   "pygments_lexer": "ipython3",
   "version": "3.8.10"
  },
  "interpreter": {
   "hash": "73e03da126b73bfff3642ec5261d56fa25c444ea595de51041687efaa60dda41"
  }
 },
 "nbformat": 4,
 "nbformat_minor": 2
}