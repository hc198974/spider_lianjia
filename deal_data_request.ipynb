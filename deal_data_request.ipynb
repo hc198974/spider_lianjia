{
 "cells": [
  {
   "cell_type": "code",
   "execution_count": null,
   "metadata": {
    "pycharm": {
     "is_executing": true
    }
   },
   "outputs": [
    {
     "name": "stdout",
     "output_type": "stream",
     "text": [
      "1\n"
     ]
    }
   ],
   "source": [
    "from spider_lianjia.spiders.chengjiao import get_chengjiao_one\n",
    "from spider_lianjia.spiders.zaishou import get_zaishou_one\n",
    "g1=get_chengjiao_one().get_chengjiao('金海花园西园')\n",
    "g2=get_zaishou_one().get_zaishou('金海花园西园')"
   ]
  },
  {
   "cell_type": "code",
   "execution_count": null,
   "metadata": {
    "pycharm": {
     "name": "#%%\n"
    }
   },
   "outputs": [],
   "source": [
    "#对成交进行数据处理\n",
    "from pandas import DataFrame,Series\n",
    "import pandas as pd\n",
    "import re\n",
    "df_c=DataFrame(g1,columns=['title','totalPrice','unitPrice','room','type','area','quxian','district','builtYear','guapaiPrice','dealCycle','dealDate'])\n",
    "df_c['area']=df_c['area'].apply(lambda x:float(re.search('\\d+(\\.\\d+)?',x).group()))\n",
    "df_c=df_c.astype({'totalPrice':'float','unitPrice':'float','guapaiPrice':'float','dealCycle':'int'})\n",
    "df_c['builtYear']=df_c['builtYear'].apply(lambda x:int(x) if x!='未知 ' else 0)\n",
    "df_c['dealDate']=pd.to_datetime(df_c['dealDate'])"
   ]
  },
  {
   "cell_type": "code",
   "execution_count": null,
   "metadata": {},
   "outputs": [],
   "source": [
    "#对在售进行数据处理\n",
    "df_z=DataFrame(g2,columns=['title','totalPrice','unitPrice','room','type','area','quxian','district','seller','builtYear','guapaiDate','preDate'])\n",
    "df_z['builtYear']=df_z['builtYear'].map(lambda x:int(re.search('\\d+',x).group()) if not '未知' in x else 0)\n",
    "df_z['area']=df_z['area'].apply(lambda x:float(re.search('\\d+(\\.\\d+)?',x).group()))\n",
    "df_z=df_z.astype({'totalPrice':'float','unitPrice':'float'})\n",
    "df_z['guapaiDate']=df_z['guapaiDate'].apply(lambda x:str.replace(x,'-','.'))#要把2021-01-10转换为2021.01.10\n",
    "df_z['guapaiDate']=pd.to_datetime(df_z['guapaiDate'])\n",
    "df_z['preDate']=df_z['preDate'].apply(lambda x:str.replace(x,'-','.'))\n",
    "df_z['preDate']=df_z['preDate'].apply(lambda x:pd.to_datetime(x) if x!='暂无数据' else 0)"
   ]
  },
  {
   "cell_type": "code",
   "execution_count": null,
   "metadata": {},
   "outputs": [],
   "source": [
    "d=round(df_z.groupby(['title'])['unitPrice'].describe(),0)\n",
    "d.columns.name='正在售'\n",
    "d"
   ]
  },
  {
   "cell_type": "code",
   "execution_count": null,
   "metadata": {
    "pycharm": {
     "name": "#%%\n"
    }
   },
   "outputs": [],
   "source": [
    "d1=df_c[(df_c['dealDate'].apply(lambda x:x.year==2020))| (df_c['dealDate'].apply(lambda x:x.year==2021))]\n",
    "d=round(d1.groupby(['title'])['unitPrice'].describe(),0)\n",
    "d.columns.name='已成交'\n",
    "d"
   ]
  }
 ],
 "metadata": {
  "kernelspec": {
   "name": "python385jvsc74a57bd073e03da126b73bfff3642ec5261d56fa25c444ea595de51041687efaa60dda41",
   "display_name": "Python 3.8.5 64-bit ('base': conda)"
  },
  "language_info": {
   "codemirror_mode": {
    "name": "ipython",
    "version": 3
   },
   "file_extension": ".py",
   "mimetype": "text/x-python",
   "name": "python",
   "nbconvert_exporter": "python",
   "pygments_lexer": "ipython3",
   "version": "3.8.5"
  }
 },
 "nbformat": 4,
 "nbformat_minor": 2
}