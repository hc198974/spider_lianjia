{
 "cells": [
  {
   "cell_type": "code",
   "execution_count": null,
   "metadata": {},
   "outputs": [],
   "source": [
    "from spider_lianjia.spiders.chengjiao import get_chengjiao_one\n",
    "from spider_lianjia.spiders.zaishou import get_zaishou_one\n",
    "g1=get_chengjiao_one().get_chengjiao('悦泰福里')\n",
    "g2=get_zaishou_one().get_zaishou('悦泰福里')"
   ]
  },
  {
   "cell_type": "code",
   "execution_count": null,
   "metadata": {
    "pycharm": {
     "name": "#%%\n"
    }
   },
   "outputs": [],
   "source": [
    "from pandas import DataFrame,Series\n",
    "import pandas as pd\n",
    "import re\n",
    "df_c=DataFrame(g1,columns=['title','totalPrice','unitPrice','room','type','area','quxian','district','builtYear','guapaiPrice','dealCycle','dealDate'])\n",
    "df_c['area']=df_c['area'].apply(lambda x:float(re.search('\\d+(\\.\\d+)?',x).group()))\n",
    "# df_c['totalPrice']=df_c['totalPrice'].apply()\n",
    "df_c=df_c.astype({'totalPrice':'float','unitPrice':'float','builtYear':'int','guapaiPrice':'float','dealCycle':'int'})\n",
    "df_c['dealDate']=pd.to_datetime(df_c['dealDate'])"
   ]
  },
  {
   "cell_type": "code",
   "execution_count": null,
   "metadata": {},
   "outputs": [],
   "source": [
    "df_z=DataFrame(g2,columns=['title','totalPrice','unitPrice','room','type','area','quxian','district','seller','builtYear','guapaiDate','preDate'])\n",
    "df_z['builtYear']=df_z['builtYear'].map(lambda x:int(re.search('\\d+',x).group()))\n",
    "df_z['area']=df_z['area'].apply(lambda x:float(re.search('\\d+(\\.\\d+)?',x).group()))\n",
    "df_z=df_z.astype({'totalPrice':'float','unitPrice':'float'})\n",
    "df_z['guapaiDate']=df_z['guapaiDate'].apply(lambda x:str.replace(x,'-','.'))#要把2021-01-10转换为2021.01.10\n",
    "df_z['guapaiDate']=pd.to_datetime(df_z['guapaiDate'])\n",
    "df_z['preDate']=df_z['preDate'].apply(lambda x:str.replace(x,'-','.'))\n",
    "df_z['preDate'].apply(lambda x:pd.to_datetime(x) if x!='暂无数据' else 0)\n",
    "df_z.dtypes"
   ]
  },
  {
   "cell_type": "code",
   "execution_count": 25,
   "metadata": {},
   "outputs": [
    {
     "output_type": "execute_result",
     "data": {
      "text/plain": [
       "正在售    count     mean     std      min      25%      50%      75%      max\n",
       "title                                                                     \n",
       "悦泰福里    23.0  27370.0  6379.0  19641.0  22848.0  24571.0  33038.0  42036.0"
      ],
      "text/html": "<div>\n<style scoped>\n    .dataframe tbody tr th:only-of-type {\n        vertical-align: middle;\n    }\n\n    .dataframe tbody tr th {\n        vertical-align: top;\n    }\n\n    .dataframe thead th {\n        text-align: right;\n    }\n</style>\n<table border=\"1\" class=\"dataframe\">\n  <thead>\n    <tr style=\"text-align: right;\">\n      <th>正在售</th>\n      <th>count</th>\n      <th>mean</th>\n      <th>std</th>\n      <th>min</th>\n      <th>25%</th>\n      <th>50%</th>\n      <th>75%</th>\n      <th>max</th>\n    </tr>\n    <tr>\n      <th>title</th>\n      <th></th>\n      <th></th>\n      <th></th>\n      <th></th>\n      <th></th>\n      <th></th>\n      <th></th>\n      <th></th>\n    </tr>\n  </thead>\n  <tbody>\n    <tr>\n      <th>悦泰福里</th>\n      <td>23.0</td>\n      <td>27370.0</td>\n      <td>6379.0</td>\n      <td>19641.0</td>\n      <td>22848.0</td>\n      <td>24571.0</td>\n      <td>33038.0</td>\n      <td>42036.0</td>\n    </tr>\n  </tbody>\n</table>\n</div>"
     },
     "metadata": {},
     "execution_count": 25
    }
   ],
   "source": [
    "d=round(df_z.groupby(['title'])['unitPrice'].describe(),0)\n",
    "d.columns.name='正在售'\n",
    "d"
   ]
  },
  {
   "cell_type": "code",
   "execution_count": 23,
   "metadata": {},
   "outputs": [
    {
     "output_type": "execute_result",
     "data": {
      "text/plain": [
       "已成交    count     mean     std      min      25%      50%      75%      max\n",
       "title                                                                     \n",
       "悦泰福里    25.0  20940.0  4693.0  11554.0  18858.0  20228.0  23581.0  30314.0"
      ],
      "text/html": "<div>\n<style scoped>\n    .dataframe tbody tr th:only-of-type {\n        vertical-align: middle;\n    }\n\n    .dataframe tbody tr th {\n        vertical-align: top;\n    }\n\n    .dataframe thead th {\n        text-align: right;\n    }\n</style>\n<table border=\"1\" class=\"dataframe\">\n  <thead>\n    <tr style=\"text-align: right;\">\n      <th>已成交</th>\n      <th>count</th>\n      <th>mean</th>\n      <th>std</th>\n      <th>min</th>\n      <th>25%</th>\n      <th>50%</th>\n      <th>75%</th>\n      <th>max</th>\n    </tr>\n    <tr>\n      <th>title</th>\n      <th></th>\n      <th></th>\n      <th></th>\n      <th></th>\n      <th></th>\n      <th></th>\n      <th></th>\n      <th></th>\n    </tr>\n  </thead>\n  <tbody>\n    <tr>\n      <th>悦泰福里</th>\n      <td>25.0</td>\n      <td>20940.0</td>\n      <td>4693.0</td>\n      <td>11554.0</td>\n      <td>18858.0</td>\n      <td>20228.0</td>\n      <td>23581.0</td>\n      <td>30314.0</td>\n    </tr>\n  </tbody>\n</table>\n</div>"
     },
     "metadata": {},
     "execution_count": 23
    }
   ],
   "source": [
    "d=round(df_c.groupby(['title'])['unitPrice'].describe(),0)\n",
    "d.columns.name='已成交'\n",
    "d"
   ]
  },
  {
   "cell_type": "code",
   "execution_count": 26,
   "metadata": {},
   "outputs": [
    {
     "output_type": "execute_result",
     "data": {
      "text/plain": [
       "   title  totalPrice  unitPrice  room    type    area quxian district  \\\n",
       "0   悦泰福里       238.0    25336.0  2室2厅  南 北      93.94     西岗      大菜市   \n",
       "1   悦泰福里       135.0    19256.0  2室1厅    南      70.11     西岗      大菜市   \n",
       "2   悦泰福里       214.0    22760.0  2室2厅  南 北      93.94     西岗      大菜市   \n",
       "3   悦泰福里       202.0    21796.0  2室2厅  南 北      92.45     西岗      大菜市   \n",
       "4   悦泰福里       223.0    24122.0  2室1厅  南 北      92.45     西岗      大菜市   \n",
       "5   悦泰福里       218.0    23581.0  2室1厅  南 北      92.45     西岗      大菜市   \n",
       "6   悦泰福里       139.0    19826.0  1室1厅    南      70.11     西岗      大菜市   \n",
       "7   悦泰福里       136.0    19399.0  1室1厅    南      70.11     西岗      大菜市   \n",
       "8   悦泰福里       133.0    18971.0  1室1厅    南      70.11     西岗      大菜市   \n",
       "9   悦泰福里       133.0    18971.0  1室1厅    南      70.11     西岗      大菜市   \n",
       "10  悦泰福里       234.0    27286.0  2室2厅  南 北      85.76     西岗      大菜市   \n",
       "11  悦泰福里       185.0    20836.0  2室1厅   东南      88.79     西岗      大菜市   \n",
       "12  悦泰福里       132.0    18858.0  1室1厅    南      70.00     西岗      大菜市   \n",
       "13  悦泰福里       108.0    15405.0  1室1厅    南      70.11     西岗      大菜市   \n",
       "14  悦泰福里       282.0    26810.0  3室1厅  南 北     105.00     西岗      大菜市   \n",
       "15  悦泰福里       348.0    30314.0  3室2厅  南 北     114.80     西岗      大菜市   \n",
       "16  悦泰福里       215.0    22887.0  2室2厅  南 北      93.94     西岗      大菜市   \n",
       "17  悦泰福里       132.0    18828.0  2室1厅   东南      70.11     西岗      大菜市   \n",
       "18  悦泰福里       118.0    16831.0  1室1厅    南      70.11     西岗      大菜市   \n",
       "19  悦泰福里       338.0    29443.0  3室2厅  南 北     114.80     西岗      大菜市   \n",
       "20  悦泰福里       187.0    20228.0  2室2厅  南 北      92.45     西岗      大菜市   \n",
       "21  悦泰福里       198.0    21078.0  2室2厅  南 北      93.94     西岗      大菜市   \n",
       "22  悦泰福里       117.0    16689.0  1室1厅    南      70.11     西岗      大菜市   \n",
       "23  悦泰福里        81.0    11554.0  2室1厅   东南      70.11     西岗      大菜市   \n",
       "24  悦泰福里       115.0    12440.0  2室2厅  南 北      92.45     西岗      大菜市   \n",
       "\n",
       "    builtYear  guapaiPrice  dealCycle   dealDate  \n",
       "0        2014        243.0        367 2021-05-30  \n",
       "1        2014        138.0        163 2021-05-17  \n",
       "2        2014        228.0         23 2021-05-16  \n",
       "3        2014        209.0         37 2021-04-23  \n",
       "4        2013        226.0         30 2021-03-28  \n",
       "5        2015        220.0          3 2021-03-14  \n",
       "6        2015        142.0        265 2021-03-10  \n",
       "7        2014        140.0          6 2021-03-08  \n",
       "8        2014        137.0         64 2021-02-28  \n",
       "9        2014        143.5         17 2020-12-09  \n",
       "10       2014        240.0         52 2020-10-02  \n",
       "11       2013        193.8        165 2020-09-13  \n",
       "12       2013        135.0        835 2020-08-20  \n",
       "13       2013        110.0        184 2020-07-17  \n",
       "14       2018        294.8        118 2020-03-14  \n",
       "15       2018        355.0         34 2019-12-22  \n",
       "16       2012        229.0        131 2019-11-21  \n",
       "17       2015        135.0        154 2019-10-06  \n",
       "18       2010        120.0         10 2019-09-06  \n",
       "19       2019        340.0         98 2019-07-10  \n",
       "20       2014        195.0        275 2019-06-12  \n",
       "21       2014        203.0        176 2019-04-29  \n",
       "22       2014        125.0         55 2019-04-27  \n",
       "23       2014         84.0         21 2016-12-10  \n",
       "24       2014        120.0          3 2016-10-17  "
      ],
      "text/html": "<div>\n<style scoped>\n    .dataframe tbody tr th:only-of-type {\n        vertical-align: middle;\n    }\n\n    .dataframe tbody tr th {\n        vertical-align: top;\n    }\n\n    .dataframe thead th {\n        text-align: right;\n    }\n</style>\n<table border=\"1\" class=\"dataframe\">\n  <thead>\n    <tr style=\"text-align: right;\">\n      <th></th>\n      <th>title</th>\n      <th>totalPrice</th>\n      <th>unitPrice</th>\n      <th>room</th>\n      <th>type</th>\n      <th>area</th>\n      <th>quxian</th>\n      <th>district</th>\n      <th>builtYear</th>\n      <th>guapaiPrice</th>\n      <th>dealCycle</th>\n      <th>dealDate</th>\n    </tr>\n  </thead>\n  <tbody>\n    <tr>\n      <th>0</th>\n      <td>悦泰福里</td>\n      <td>238.0</td>\n      <td>25336.0</td>\n      <td>2室2厅</td>\n      <td>南 北</td>\n      <td>93.94</td>\n      <td>西岗</td>\n      <td>大菜市</td>\n      <td>2014</td>\n      <td>243.0</td>\n      <td>367</td>\n      <td>2021-05-30</td>\n    </tr>\n    <tr>\n      <th>1</th>\n      <td>悦泰福里</td>\n      <td>135.0</td>\n      <td>19256.0</td>\n      <td>2室1厅</td>\n      <td>南</td>\n      <td>70.11</td>\n      <td>西岗</td>\n      <td>大菜市</td>\n      <td>2014</td>\n      <td>138.0</td>\n      <td>163</td>\n      <td>2021-05-17</td>\n    </tr>\n    <tr>\n      <th>2</th>\n      <td>悦泰福里</td>\n      <td>214.0</td>\n      <td>22760.0</td>\n      <td>2室2厅</td>\n      <td>南 北</td>\n      <td>93.94</td>\n      <td>西岗</td>\n      <td>大菜市</td>\n      <td>2014</td>\n      <td>228.0</td>\n      <td>23</td>\n      <td>2021-05-16</td>\n    </tr>\n    <tr>\n      <th>3</th>\n      <td>悦泰福里</td>\n      <td>202.0</td>\n      <td>21796.0</td>\n      <td>2室2厅</td>\n      <td>南 北</td>\n      <td>92.45</td>\n      <td>西岗</td>\n      <td>大菜市</td>\n      <td>2014</td>\n      <td>209.0</td>\n      <td>37</td>\n      <td>2021-04-23</td>\n    </tr>\n    <tr>\n      <th>4</th>\n      <td>悦泰福里</td>\n      <td>223.0</td>\n      <td>24122.0</td>\n      <td>2室1厅</td>\n      <td>南 北</td>\n      <td>92.45</td>\n      <td>西岗</td>\n      <td>大菜市</td>\n      <td>2013</td>\n      <td>226.0</td>\n      <td>30</td>\n      <td>2021-03-28</td>\n    </tr>\n    <tr>\n      <th>5</th>\n      <td>悦泰福里</td>\n      <td>218.0</td>\n      <td>23581.0</td>\n      <td>2室1厅</td>\n      <td>南 北</td>\n      <td>92.45</td>\n      <td>西岗</td>\n      <td>大菜市</td>\n      <td>2015</td>\n      <td>220.0</td>\n      <td>3</td>\n      <td>2021-03-14</td>\n    </tr>\n    <tr>\n      <th>6</th>\n      <td>悦泰福里</td>\n      <td>139.0</td>\n      <td>19826.0</td>\n      <td>1室1厅</td>\n      <td>南</td>\n      <td>70.11</td>\n      <td>西岗</td>\n      <td>大菜市</td>\n      <td>2015</td>\n      <td>142.0</td>\n      <td>265</td>\n      <td>2021-03-10</td>\n    </tr>\n    <tr>\n      <th>7</th>\n      <td>悦泰福里</td>\n      <td>136.0</td>\n      <td>19399.0</td>\n      <td>1室1厅</td>\n      <td>南</td>\n      <td>70.11</td>\n      <td>西岗</td>\n      <td>大菜市</td>\n      <td>2014</td>\n      <td>140.0</td>\n      <td>6</td>\n      <td>2021-03-08</td>\n    </tr>\n    <tr>\n      <th>8</th>\n      <td>悦泰福里</td>\n      <td>133.0</td>\n      <td>18971.0</td>\n      <td>1室1厅</td>\n      <td>南</td>\n      <td>70.11</td>\n      <td>西岗</td>\n      <td>大菜市</td>\n      <td>2014</td>\n      <td>137.0</td>\n      <td>64</td>\n      <td>2021-02-28</td>\n    </tr>\n    <tr>\n      <th>9</th>\n      <td>悦泰福里</td>\n      <td>133.0</td>\n      <td>18971.0</td>\n      <td>1室1厅</td>\n      <td>南</td>\n      <td>70.11</td>\n      <td>西岗</td>\n      <td>大菜市</td>\n      <td>2014</td>\n      <td>143.5</td>\n      <td>17</td>\n      <td>2020-12-09</td>\n    </tr>\n    <tr>\n      <th>10</th>\n      <td>悦泰福里</td>\n      <td>234.0</td>\n      <td>27286.0</td>\n      <td>2室2厅</td>\n      <td>南 北</td>\n      <td>85.76</td>\n      <td>西岗</td>\n      <td>大菜市</td>\n      <td>2014</td>\n      <td>240.0</td>\n      <td>52</td>\n      <td>2020-10-02</td>\n    </tr>\n    <tr>\n      <th>11</th>\n      <td>悦泰福里</td>\n      <td>185.0</td>\n      <td>20836.0</td>\n      <td>2室1厅</td>\n      <td>东南</td>\n      <td>88.79</td>\n      <td>西岗</td>\n      <td>大菜市</td>\n      <td>2013</td>\n      <td>193.8</td>\n      <td>165</td>\n      <td>2020-09-13</td>\n    </tr>\n    <tr>\n      <th>12</th>\n      <td>悦泰福里</td>\n      <td>132.0</td>\n      <td>18858.0</td>\n      <td>1室1厅</td>\n      <td>南</td>\n      <td>70.00</td>\n      <td>西岗</td>\n      <td>大菜市</td>\n      <td>2013</td>\n      <td>135.0</td>\n      <td>835</td>\n      <td>2020-08-20</td>\n    </tr>\n    <tr>\n      <th>13</th>\n      <td>悦泰福里</td>\n      <td>108.0</td>\n      <td>15405.0</td>\n      <td>1室1厅</td>\n      <td>南</td>\n      <td>70.11</td>\n      <td>西岗</td>\n      <td>大菜市</td>\n      <td>2013</td>\n      <td>110.0</td>\n      <td>184</td>\n      <td>2020-07-17</td>\n    </tr>\n    <tr>\n      <th>14</th>\n      <td>悦泰福里</td>\n      <td>282.0</td>\n      <td>26810.0</td>\n      <td>3室1厅</td>\n      <td>南 北</td>\n      <td>105.00</td>\n      <td>西岗</td>\n      <td>大菜市</td>\n      <td>2018</td>\n      <td>294.8</td>\n      <td>118</td>\n      <td>2020-03-14</td>\n    </tr>\n    <tr>\n      <th>15</th>\n      <td>悦泰福里</td>\n      <td>348.0</td>\n      <td>30314.0</td>\n      <td>3室2厅</td>\n      <td>南 北</td>\n      <td>114.80</td>\n      <td>西岗</td>\n      <td>大菜市</td>\n      <td>2018</td>\n      <td>355.0</td>\n      <td>34</td>\n      <td>2019-12-22</td>\n    </tr>\n    <tr>\n      <th>16</th>\n      <td>悦泰福里</td>\n      <td>215.0</td>\n      <td>22887.0</td>\n      <td>2室2厅</td>\n      <td>南 北</td>\n      <td>93.94</td>\n      <td>西岗</td>\n      <td>大菜市</td>\n      <td>2012</td>\n      <td>229.0</td>\n      <td>131</td>\n      <td>2019-11-21</td>\n    </tr>\n    <tr>\n      <th>17</th>\n      <td>悦泰福里</td>\n      <td>132.0</td>\n      <td>18828.0</td>\n      <td>2室1厅</td>\n      <td>东南</td>\n      <td>70.11</td>\n      <td>西岗</td>\n      <td>大菜市</td>\n      <td>2015</td>\n      <td>135.0</td>\n      <td>154</td>\n      <td>2019-10-06</td>\n    </tr>\n    <tr>\n      <th>18</th>\n      <td>悦泰福里</td>\n      <td>118.0</td>\n      <td>16831.0</td>\n      <td>1室1厅</td>\n      <td>南</td>\n      <td>70.11</td>\n      <td>西岗</td>\n      <td>大菜市</td>\n      <td>2010</td>\n      <td>120.0</td>\n      <td>10</td>\n      <td>2019-09-06</td>\n    </tr>\n    <tr>\n      <th>19</th>\n      <td>悦泰福里</td>\n      <td>338.0</td>\n      <td>29443.0</td>\n      <td>3室2厅</td>\n      <td>南 北</td>\n      <td>114.80</td>\n      <td>西岗</td>\n      <td>大菜市</td>\n      <td>2019</td>\n      <td>340.0</td>\n      <td>98</td>\n      <td>2019-07-10</td>\n    </tr>\n    <tr>\n      <th>20</th>\n      <td>悦泰福里</td>\n      <td>187.0</td>\n      <td>20228.0</td>\n      <td>2室2厅</td>\n      <td>南 北</td>\n      <td>92.45</td>\n      <td>西岗</td>\n      <td>大菜市</td>\n      <td>2014</td>\n      <td>195.0</td>\n      <td>275</td>\n      <td>2019-06-12</td>\n    </tr>\n    <tr>\n      <th>21</th>\n      <td>悦泰福里</td>\n      <td>198.0</td>\n      <td>21078.0</td>\n      <td>2室2厅</td>\n      <td>南 北</td>\n      <td>93.94</td>\n      <td>西岗</td>\n      <td>大菜市</td>\n      <td>2014</td>\n      <td>203.0</td>\n      <td>176</td>\n      <td>2019-04-29</td>\n    </tr>\n    <tr>\n      <th>22</th>\n      <td>悦泰福里</td>\n      <td>117.0</td>\n      <td>16689.0</td>\n      <td>1室1厅</td>\n      <td>南</td>\n      <td>70.11</td>\n      <td>西岗</td>\n      <td>大菜市</td>\n      <td>2014</td>\n      <td>125.0</td>\n      <td>55</td>\n      <td>2019-04-27</td>\n    </tr>\n    <tr>\n      <th>23</th>\n      <td>悦泰福里</td>\n      <td>81.0</td>\n      <td>11554.0</td>\n      <td>2室1厅</td>\n      <td>东南</td>\n      <td>70.11</td>\n      <td>西岗</td>\n      <td>大菜市</td>\n      <td>2014</td>\n      <td>84.0</td>\n      <td>21</td>\n      <td>2016-12-10</td>\n    </tr>\n    <tr>\n      <th>24</th>\n      <td>悦泰福里</td>\n      <td>115.0</td>\n      <td>12440.0</td>\n      <td>2室2厅</td>\n      <td>南 北</td>\n      <td>92.45</td>\n      <td>西岗</td>\n      <td>大菜市</td>\n      <td>2014</td>\n      <td>120.0</td>\n      <td>3</td>\n      <td>2016-10-17</td>\n    </tr>\n  </tbody>\n</table>\n</div>"
     },
     "metadata": {},
     "execution_count": 26
    }
   ],
   "source": [
    "df_c"
   ]
  },
  {
   "cell_type": "code",
   "execution_count": null,
   "metadata": {},
   "outputs": [],
   "source": []
  }
 ],
 "metadata": {
  "kernelspec": {
   "name": "python385jvsc74a57bd073e03da126b73bfff3642ec5261d56fa25c444ea595de51041687efaa60dda41",
   "display_name": "Python 3.8.5 64-bit ('base': conda)"
  },
  "language_info": {
   "codemirror_mode": {
    "name": "ipython",
    "version": 3
   },
   "file_extension": ".py",
   "mimetype": "text/x-python",
   "name": "python",
   "nbconvert_exporter": "python",
   "pygments_lexer": "ipython3",
   "version": "3.8.5"
  }
 },
 "nbformat": 4,
 "nbformat_minor": 2
}