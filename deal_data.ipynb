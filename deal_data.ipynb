{
 "cells": [
  {
   "cell_type": "code",
   "execution_count": 41,
   "metadata": {
    "tags": []
   },
   "outputs": [],
   "source": [
    "# #设置显示全部行，不省略\n",
    "pd.set_option('display.max_rows',20)\n",
    "# #设置显示全部列，不省略\n",
    "pd.set_option('display.max_columns',20)\n",
    "\n",
    "import pandas as pd\n",
    "import json\n",
    "from pandas import Series,DataFrame\n",
    "#会产生大量数据错误\n",
    "# with open('lianjia.json', 'r',encoding='utf-8') as f:\n",
    "#     data = json.load(f)\n",
    "item=[]\n",
    "for line in open('lianjia.json','r',encoding='utf-8'):\n",
    "    item.append(json.loads(line))\n",
    "    \n",
    "d=DataFrame(item)"
   ]
  },
  {
   "cell_type": "code",
   "execution_count": 42,
   "metadata": {
    "tags": []
   },
   "outputs": [],
   "source": [
    "import re\n",
    "getarea=lambda x: re.search(r\"\\d+(\\.\\d+)?\",x).group()"
   ]
  },
  {
   "cell_type": "code",
   "execution_count": null,
   "metadata": {},
   "outputs": [],
   "source": []
  }
 ],
 "metadata": {
  "kernelspec": {
   "name": "python385jvsc74a57bd073e03da126b73bfff3642ec5261d56fa25c444ea595de51041687efaa60dda41",
   "display_name": "Python 3.8.5 64-bit ('base': conda)"
  },
  "language_info": {
   "codemirror_mode": {
    "name": "ipython",
    "version": 3
   },
   "file_extension": ".py",
   "mimetype": "text/x-python",
   "name": "python",
   "nbconvert_exporter": "python",
   "pygments_lexer": "ipython3",
   "version": "3.8.5"
  }
 },
 "nbformat": 4,
 "nbformat_minor": 2
}