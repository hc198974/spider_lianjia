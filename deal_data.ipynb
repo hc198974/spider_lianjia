{
 "cells": [
  {
   "cell_type": "code",
   "execution_count": 19,
   "metadata": {
    "tags": []
   },
   "outputs": [
    {
     "output_type": "execute_result",
     "data": {
      "text/plain": [
       "{'title': '缇香漫城',\n",
       " 'room': '2室1厅',\n",
       " 'area': '85.18平米',\n",
       " 'dealDate': '2016.10.05',\n",
       " 'totalPrice': '112',\n",
       " 'unitPrice': '13149'}"
      ]
     },
     "metadata": {},
     "execution_count": 19
    }
   ],
   "source": [
    "import pandas as pd\n",
    "import json\n",
    "#会产生大量数据错误\n",
    "# with open('lianjia.json', 'r',encoding='utf-8') as f:\n",
    "#     data = json.load(f)\n",
    "item=[]\n",
    "for line in open('lianjia.json','r',encoding='utf-8'):\n",
    "    item.append(json.loads(line))\n",
    "item[0]"
   ]
  },
  {
   "cell_type": "code",
   "execution_count": 23,
   "metadata": {},
   "outputs": [
    {
     "output_type": "execute_result",
     "data": {
      "text/plain": [
       "'缇香漫城'"
      ]
     },
     "metadata": {},
     "execution_count": 23
    }
   ],
   "source": [
    "item[0]['title']"
   ]
  },
  {
   "cell_type": "code",
   "execution_count": 27,
   "metadata": {},
   "outputs": [
    {
     "output_type": "execute_result",
     "data": {
      "text/plain": [
       "      title  room      area    dealDate totalPrice unitPrice\n",
       "0      缇香漫城  2室1厅   85.18平米  2016.10.05        112     13149\n",
       "1      缇香漫城  2室2厅      88平米  2016.09.24        130     14716\n",
       "2      缇香漫城  1室0厅      34平米  2016.09.08         46     13295\n",
       "3      缇香漫城  1室1厅      48平米  2016.05.02         63     13063\n",
       "4      缇香漫城  2室1厅   86.72平米  2016.04.29        107     12247\n",
       "...     ...   ...       ...         ...        ...       ...\n",
       "28487  美域盛景  2室2厅   88.91平米  2018.03.31        104     11698\n",
       "28488  美域盛景  2室1厅   93.26平米  2018.03.25         94     10080\n",
       "28489  美域盛景  1室1厅   53.78平米  2018.03.25         34      6323\n",
       "28490  美域盛景  2室2厅   86.73平米  2018.03.24         95     10954\n",
       "28491  美域盛景  3室2厅  110.77平米  2018.03.22        110      9931\n",
       "\n",
       "[28492 rows x 6 columns]"
      ],
      "text/html": "<div>\n<style scoped>\n    .dataframe tbody tr th:only-of-type {\n        vertical-align: middle;\n    }\n\n    .dataframe tbody tr th {\n        vertical-align: top;\n    }\n\n    .dataframe thead th {\n        text-align: right;\n    }\n</style>\n<table border=\"1\" class=\"dataframe\">\n  <thead>\n    <tr style=\"text-align: right;\">\n      <th></th>\n      <th>title</th>\n      <th>room</th>\n      <th>area</th>\n      <th>dealDate</th>\n      <th>totalPrice</th>\n      <th>unitPrice</th>\n    </tr>\n  </thead>\n  <tbody>\n    <tr>\n      <th>0</th>\n      <td>缇香漫城</td>\n      <td>2室1厅</td>\n      <td>85.18平米</td>\n      <td>2016.10.05</td>\n      <td>112</td>\n      <td>13149</td>\n    </tr>\n    <tr>\n      <th>1</th>\n      <td>缇香漫城</td>\n      <td>2室2厅</td>\n      <td>88平米</td>\n      <td>2016.09.24</td>\n      <td>130</td>\n      <td>14716</td>\n    </tr>\n    <tr>\n      <th>2</th>\n      <td>缇香漫城</td>\n      <td>1室0厅</td>\n      <td>34平米</td>\n      <td>2016.09.08</td>\n      <td>46</td>\n      <td>13295</td>\n    </tr>\n    <tr>\n      <th>3</th>\n      <td>缇香漫城</td>\n      <td>1室1厅</td>\n      <td>48平米</td>\n      <td>2016.05.02</td>\n      <td>63</td>\n      <td>13063</td>\n    </tr>\n    <tr>\n      <th>4</th>\n      <td>缇香漫城</td>\n      <td>2室1厅</td>\n      <td>86.72平米</td>\n      <td>2016.04.29</td>\n      <td>107</td>\n      <td>12247</td>\n    </tr>\n    <tr>\n      <th>...</th>\n      <td>...</td>\n      <td>...</td>\n      <td>...</td>\n      <td>...</td>\n      <td>...</td>\n      <td>...</td>\n    </tr>\n    <tr>\n      <th>28487</th>\n      <td>美域盛景</td>\n      <td>2室2厅</td>\n      <td>88.91平米</td>\n      <td>2018.03.31</td>\n      <td>104</td>\n      <td>11698</td>\n    </tr>\n    <tr>\n      <th>28488</th>\n      <td>美域盛景</td>\n      <td>2室1厅</td>\n      <td>93.26平米</td>\n      <td>2018.03.25</td>\n      <td>94</td>\n      <td>10080</td>\n    </tr>\n    <tr>\n      <th>28489</th>\n      <td>美域盛景</td>\n      <td>1室1厅</td>\n      <td>53.78平米</td>\n      <td>2018.03.25</td>\n      <td>34</td>\n      <td>6323</td>\n    </tr>\n    <tr>\n      <th>28490</th>\n      <td>美域盛景</td>\n      <td>2室2厅</td>\n      <td>86.73平米</td>\n      <td>2018.03.24</td>\n      <td>95</td>\n      <td>10954</td>\n    </tr>\n    <tr>\n      <th>28491</th>\n      <td>美域盛景</td>\n      <td>3室2厅</td>\n      <td>110.77平米</td>\n      <td>2018.03.22</td>\n      <td>110</td>\n      <td>9931</td>\n    </tr>\n  </tbody>\n</table>\n<p>28492 rows × 6 columns</p>\n</div>"
     },
     "metadata": {},
     "execution_count": 27
    }
   ],
   "source": [
    "from pandas import Series,DataFrame\n",
    "s=Series(item[0])\n",
    "s\n",
    "d=DataFrame(item)\n",
    "d"
   ]
  },
  {
   "cell_type": "code",
   "execution_count": null,
   "metadata": {},
   "outputs": [],
   "source": []
  }
 ],
 "metadata": {
  "kernelspec": {
   "name": "python388jvsc74a57bd073e03da126b73bfff3642ec5261d56fa25c444ea595de51041687efaa60dda41",
   "display_name": "Python 3.8.8 64-bit ('base': conda)"
  },
  "language_info": {
   "codemirror_mode": {
    "name": "ipython",
    "version": 3
   },
   "file_extension": ".py",
   "mimetype": "text/x-python",
   "name": "python",
   "nbconvert_exporter": "python",
   "pygments_lexer": "ipython3",
   "version": "3.8.8"
  }
 },
 "nbformat": 4,
 "nbformat_minor": 2
}