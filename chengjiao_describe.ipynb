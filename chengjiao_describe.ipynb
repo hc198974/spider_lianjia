{
 "cells": [
  {
   "attachments": {},
   "cell_type": "markdown",
   "metadata": {},
   "source": [
    "1.1、提取当日日成交数据存入数据库。\n",
    "1.2、提取指定小区成交数据并存入数据库。\n",
    "2、从数据库提取数据。\n",
    "3、获得每日成交量。\n",
    "4、获得某个单价区间的成交量。\n",
    "5、获得某个总价区间的成交量。\n",
    "6、获得某个小区的成交信息，并将小区信息保存到csv文件中。\n",
    "7、按年/月统计单价平均值。\n",
    "8、按小区计算平均单价"
   ]
  },
  {
   "cell_type": "code",
   "execution_count": 2,
   "metadata": {},
   "outputs": [
    {
     "name": "stdout",
     "output_type": "stream",
     "text": [
      "开始爬取...\n",
      "1\n",
      "2\n",
      "3\n",
      "4\n",
      "5\n",
      "6\n",
      "爬取完毕...\n",
      "开始查重...\n",
      "查重完毕\n"
     ]
    }
   ],
   "source": [
    "#提取当日成交数据并存入数据库\n",
    "from spider_lianjia.spiders.chengjiao import spyder_chengjiao,dropduplicate_db\n",
    "spyder_chengjiao(1,7)\n",
    "print('开始查重...')\n",
    "dropduplicate_db()"
   ]
  },
  {
   "cell_type": "code",
   "execution_count": null,
   "metadata": {},
   "outputs": [],
   "source": [
    "#提取指定小区的成交数据并存入数据库\n",
    "#得写一个去除暂无数据的挂牌量的代码\n",
    "from spider_lianjia.spiders.chengjiao import get_chengjiao_one,insert_db,dropduplicate_db\n",
    "g1=get_chengjiao_one().get_chengjiao('香周首府')\n",
    "list=[]\n",
    "for i in range(0,len(g1)):\n",
    "    if g1[i][9]!='暂无数据':\n",
    "        list.append({'title':g1[i][0],'room':g1[i][3],'area':g1[i][5],'dealDate':g1[i][11],'totalPrice':str(g1[i][1]),'unitPrice':g1[i][2],'dealCycle':g1[i][10],\n",
    "        'guaPai':g1[i][9],'seller':0,'district':g1[i][7],'quyu':g1[i][6]})\n",
    "insert_db(list)\n",
    "dropduplicate_db()"
   ]
  },
  {
   "cell_type": "code",
   "execution_count": 3,
   "metadata": {},
   "outputs": [],
   "source": [
    " #需导入的模块\n",
    "import numpy as np\n",
    "import pandas as pd\n",
    "from pandas import Series,DataFrame\n",
    "import matplotlib.pyplot as plt\n",
    "import datetime\n",
    "from numpy import random #经常有用\n",
    "import re\n",
    "import pymongo\n",
    "\n",
    "#将pymongo数据转换成Dataframe\n",
    "myclient = pymongo.MongoClient(\"mongodb://localhost:27017/\")\n",
    "mydb = myclient[\"db_lianjia\"]\n",
    "mycol = mydb[\"chengjiao\"]\n",
    "\n",
    "x = list(mycol.find())\n",
    "df=DataFrame(x)\n",
    "#把没用的id删除掉\n",
    "df=df.drop('_id',axis=1)    \n",
    "df.drop_duplicates(inplace=True)\n",
    "#把车位这一行删掉\n",
    "df.drop(index=df[df['area']=='车位'].index,inplace=True) \n",
    "df['area']=df['area'].apply(lambda x: float(re.search(\"\\d+(\\.\\d+)?\",x).group()))\n",
    "tofloat=lambda x:float(x)\n",
    "df['unitPrice']=df['unitPrice'].apply(tofloat)\n",
    "df['totalPrice']=df['totalPrice'].apply(tofloat)\n",
    "df['dealDate']=pd.to_datetime(df['dealDate'])\n",
    "# df['dealCycle']=df['dealCycle'].apply(lambda x: int(re.search('\\d+',x).group()))#有些老的数据没有dealcycle\n",
    "df['guaPai']=df['guaPai'].apply(lambda x: float(re.search(\"\\d+(\\.\\d+)?\",x).group()))\n",
    "\n"
   ]
  },
  {
   "cell_type": "code",
   "execution_count": 5,
   "metadata": {
    "tags": []
   },
   "outputs": [
    {
     "ename": "SyntaxError",
     "evalue": "invalid character in identifier (107308075.py, line 3)",
     "output_type": "error",
     "traceback": [
      "\u001b[1;36m  File \u001b[1;32m\"C:\\Users\\Administrator\\AppData\\Local\\Temp\\ipykernel_8912\\107308075.py\"\u001b[1;36m, line \u001b[1;32m3\u001b[0m\n\u001b[1;33m    、\u001b[0m\n\u001b[1;37m    ^\u001b[0m\n\u001b[1;31mSyntaxError\u001b[0m\u001b[1;31m:\u001b[0m invalid character in identifier\n"
     ]
    }
   ],
   "source": [
    "q\n",
    "qqqqq前\n",
    "、\n",
    "#获得每日成交量\n",
    "df['count']=0\n",
    "d=df.groupby(['dealDate']).count()['count']\n",
    "d=d[-30:]\n",
    "\n",
    "import matplotlib.pyplot as plt\n",
    "plt.rcParams['font.family']=['SIMHEI']\n",
    "plt.figure(figsize=(20, 2))\n",
    "plt.plot(d.index,d.values,label='每日成交量',linewidth=1,marker='o')\n",
    "plt.xlabel('日期',fontsize=20)\n",
    "plt.ylabel('套数',fontsize=20)\n",
    "plt.xticks(d.index,list(map(lambda x:x.date().strftime('%m-%d'),d.index)))\n",
    "plt.legend()\n",
    "for x,y in zip(d.index,d.values):\n",
    "    plt.text(x, y+0.05, y, ha='center', va= 'bottom',fontsize=15)\n",
    "plt.show()\n",
    " "
   ]
  },
  {
   "cell_type": "code",
   "execution_count": null,
   "metadata": {},
   "outputs": [],
   "source": [
    "#2023年每月成交量，从4月份开始比较准\n",
    "d=df[df['dealDate'].apply(lambda x:x.year==2023)]\n",
    "d=d['title'].groupby(d['dealDate'].apply(lambda x:x.month)).count()\n",
    "\n",
    "import matplotlib.pyplot as plt\n",
    "plt.rcParams['font.family']=['SIMHEI']\n",
    "plt.figure(figsize=(20, 2))\n",
    "plt.plot(d.index,d.values,label='每月成交量',linewidth=1,marker='o')\n",
    "plt.xlabel('月份',fontsize=20)\n",
    "plt.ylabel('套数',fontsize=20)\n",
    "plt.xticks(d.index)\n",
    "plt.legend()\n",
    "for x,y in zip(d.index,d.values):\n",
    "    plt.text(x, y+0.05, y, ha='center', va= 'bottom',fontsize=15)\n",
    "plt.show()"
   ]
  },
  {
   "cell_type": "code",
   "execution_count": null,
   "metadata": {},
   "outputs": [],
   "source": [
    "#获得某个单价区间的成交量\n",
    "bins=[0,5000,10000,15000,20000,25000,30000]\n",
    "cats=pd.cut(df['unitPrice'],bins)\n",
    "X=np.arange(1,7)\n",
    "Y=pd.value_counts(cats,sort=False).values\n",
    "x_label=list(map(lambda x:str(x/10000)+'-'+str((x+5000)/10000),bins[:6]))\n",
    "color=['red','black','peru','orchid','deepskyblue']\n",
    "plt.rcParams['font.family']=['SIMHEI']\n",
    "plt.bar(x=X,height=Y,align='center',width=0.5,label='不同单价的销售量',color='g')\n",
    "plt.xticks(X,x_label)\n",
    "plt.xlabel('单价（万）',fontsize=20)\n",
    "plt.ylabel('销售量',fontsize=20)\n",
    "plt.legend(loc='best')\n",
    "for x,y in zip(X,Y):\n",
    "    s=str(y)+'套'\n",
    "    plt.text(x, y+0.05, s, ha='center', va= 'bottom',fontsize=15)\n",
    "plt.show()"
   ]
  },
  {
   "cell_type": "code",
   "execution_count": null,
   "metadata": {},
   "outputs": [],
   "source": [
    "#获得某个总价区间的成交量\n",
    "bins=[0,50,100,150,200,250,300,350]\n",
    "cats=pd.cut(df['totalPrice'],bins=bins)\n",
    "X=np.arange(1,8)\n",
    "Y=pd.value_counts(cats,sort=False).values\n",
    "x_label=list(map(lambda x:str(x)+'-'+str((x+50)),bins[:7]))\n",
    "color=['red','black','peru','orchid','deepskyblue']\n",
    "plt.rcParams['font.family']=['SIMHEI']\n",
    "plt.bar(x=X,height=Y,align='center',width=0.5,label='不同总价的销售量',color='peru')\n",
    "plt.xticks(X,x_label)\n",
    "plt.xlabel('总价（万）',fontsize=20)\n",
    "plt.ylabel('销售量',fontsize=20)\n",
    "plt.legend(loc='best')\n",
    "for x,y in zip(X,Y):\n",
    "    s=str(y)+'套'\n",
    "    plt.text(x, y+0.05, s, ha='center', va= 'bottom',fontsize=15)\n",
    "plt.show()"
   ]
  },
  {
   "cell_type": "code",
   "execution_count": null,
   "metadata": {},
   "outputs": [],
   "source": [
    "#获得某个小区的成交信息\n",
    "try:\n",
    "    dwj=df[df['title'].apply(lambda x:'前城国际' in x and '公寓' not in x)]\n",
    "    t=dwj.sort_values(['dealDate'])\n",
    "    t.describe().round(0).unstack()\n",
    "except KeyError as e:\n",
    "    print(e)\n",
    "dwj.sort_values(by=['dealDate'])\n",
    "#保存到csv文件\n",
    "dwj.to_csv('data/某小区成交数据.csv',encoding='gbk')"
   ]
  },
  {
   "cell_type": "code",
   "execution_count": null,
   "metadata": {},
   "outputs": [],
   "source": [
    "#按年/月计算平均单价\n",
    "#按年计算平均单价\n",
    "g1=df[df['dealDate'].apply(lambda x:x.year>2015)]\n",
    "g1=g1['unitPrice'].groupby(df['dealDate'].apply(lambda x:x.year)).mean()\n",
    "#按月计算平均单价\n",
    "g2=df['unitPrice'].groupby(df['dealDate'].apply(lambda x:x.month)).mean()\n",
    "#计算某一年的月平均单价\n",
    "g3=df[df['dealDate'].apply(lambda x:x.year==2019)]\n",
    "g3=g3['unitPrice'].groupby(df['dealDate'].apply(lambda x:x.month)).mean()\n",
    "print(g1)"
   ]
  },
  {
   "cell_type": "code",
   "execution_count": null,
   "metadata": {},
   "outputs": [],
   "source": [
    "#按年/月计算平均总价\n",
    "#按年计算平均总价\n",
    "g1=df[df['dealDate'].apply(lambda x:x.year>2015)]\n",
    "g1=g1['totalPrice'].groupby(df['dealDate'].apply(lambda x:x.year)).mean()\n",
    "#按月计算平均总价\n",
    "g2=df['totalPrice'].groupby(df['dealDate'].apply(lambda x:x.month)).mean()\n",
    "#计算某一年的月平均总价\n",
    "g3=df[df['dealDate'].apply(lambda x:x.year==2019)]\n",
    "g3=g3['totalPrice'].groupby(df['dealDate'].apply(lambda x:x.month)).mean()\n",
    "print(g3)"
   ]
  },
  {
   "cell_type": "code",
   "execution_count": null,
   "metadata": {},
   "outputs": [],
   "source": [
    "#按小区计算平均单价\n",
    "d=df[df['dealDate'].apply(lambda x:x.year in [2020,2021,2022])]\n",
    "#复杂的备用写法\n",
    "#d1=df[(df['dealDate'].apply(lambda x:x.year==2020))| (df['dealDate'].apply(lambda x:x.year==2021))]\n",
    "d=round(d.groupby(['title'])['unitPrice'].describe(),0)\n",
    "d.columns.name='已成交'\n",
    "d.to_csv('data/按小区平均单价.csv',encoding='gbk')"
   ]
  },
  {
   "cell_type": "code",
   "execution_count": null,
   "metadata": {},
   "outputs": [],
   "source": [
    "#找出挂牌价和成交价差距大的房子\n",
    "f=df[((df['guaPai']-df['totalPrice'])/df['guaPai']>0.05) & (df['dealDate'].map(lambda x:x.year)==2022)].sort_values(by=['title','dealDate'])\n",
    "f['chazhi']=round((f['guaPai']-f['totalPrice'])/f['guaPai'],2)\n",
    "g=df[df['dealDate'].map(lambda x:x.year==2022)].sort_values(by=['title','dealDate'])\n",
    "f['title'].count()/g['title'].count()"
   ]
  },
  {
   "cell_type": "code",
   "execution_count": null,
   "metadata": {},
   "outputs": [],
   "source": [
    "#找出各小区的某些年份的销售数量\n",
    "# df.groupby(['title'])[['title']].count()\n",
    "q=df[df['dealDate'].apply(lambda x:x.year>2015)]\n",
    "c=q['title'].groupby([q['title'],q['dealDate'].apply(lambda x:x.year)]).count()\n",
    "c.index.names=['title','year']\n",
    "c"
   ]
  },
  {
   "cell_type": "code",
   "execution_count": null,
   "metadata": {},
   "outputs": [],
   "source": [
    "#找出名字相似小区的成交情况\n",
    "result=list(set(list(map(lambda x:re.search('悦泰(\\w+)?',x),df['title']))))\n",
    "result.remove(None)\n",
    "r=[i.group() for i in result]\n",
    "q=df[df['title'].apply(lambda x:x in r)]\n",
    "q"
   ]
  }
 ],
 "metadata": {
  "kernelspec": {
   "display_name": "Python 3 (ipykernel)",
   "language": "python",
   "name": "python3"
  },
  "language_info": {
   "codemirror_mode": {
    "name": "ipython",
    "version": 3
   },
   "file_extension": ".py",
   "mimetype": "text/x-python",
   "name": "python",
   "nbconvert_exporter": "python",
   "pygments_lexer": "ipython3",
   "version": "3.7.16"
  },
  "vscode": {
   "interpreter": {
    "hash": "e42634819b8c191a5d07eaf23810ff32516dd8d3875f28ec3e488928fbd3c187"
   }
  }
 },
 "nbformat": 4,
 "nbformat_minor": 2
}
