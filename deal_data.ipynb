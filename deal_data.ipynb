{
 "cells": [
  {
   "cell_type": "code",
   "execution_count": null,
   "metadata": {
    "tags": []
   },
   "outputs": [],
   "source": [
    "import pandas as pd\n",
    "import json\n",
    "from pandas import Series,DataFrame\n",
    "import re\n",
    "import datetime\n",
    "from bs4 import BeautifulSoup\n",
    "import requests\n",
    "#寻找小区对应的区域和建造年份\n",
    "def get_data(x):\n",
    "    try:\n",
    "        html=requests.get('https://dl.lianjia.com/xiaoqu/rs'+x)\n",
    "        soup=BeautifulSoup(html.text,'lxml')\n",
    "        s=soup.select('.info .title a')\n",
    "        for i in range(0,len(s)):\n",
    "            if s[i].string==x:\n",
    "                district=soup.select('.info .positionInfo .district')[i].string\n",
    "                bizcircle=soup.select('.info .positionInfo .bizcircle')[i].string\n",
    "                temp=soup.select('.info .positionInfo')[i].get_text()\n",
    "                nianfen=re.search('\\d+',temp).group()\n",
    "                return x+' '+district+' '+bizcircle+' '+ str(nianfen)\n",
    "        else:\n",
    "            return None\n",
    "    except IndexError as e:\n",
    "        print(x)\n",
    "\n",
    "pd.set_option('display.max_rows',None)\n",
    "# #设置显示全部列，不省略\n",
    "pd.set_option('display.max_columns',None)\n",
    "\n",
    "item=[]\n",
    "for line in open('data/lianjia.json','r',encoding='utf-8'):\n",
    "    item.append(json.loads(line))\n",
    "    \n",
    "df=DataFrame(item)\n",
    "df.drop_duplicates(inplace=True)\n",
    "\n",
    " "
   ]
  },
  {
   "cell_type": "code",
   "execution_count": null,
   "metadata": {},
   "outputs": [],
   "source": [
    "getarea=lambda x: float(re.search(r\"\\d+(\\.\\d+)?\",x).group())\n",
    "df['area']=df['area'].apply(getarea)\n",
    "tofloat=lambda x:float(x)\n",
    "df['unitPrice']=df['unitPrice'].apply(tofloat)\n",
    "df['totalPrice']=df['totalPrice'].apply(tofloat)\n",
    "df['dealDate']=pd.to_datetime(df['dealDate'])\n",
    "df['dealCycle']=df['dealCycle'].map(lambda x:int(re.search('\\d+',x).group()))\n",
    "df['guaPai']=df['guaPai'].apply(getarea)"
   ]
  },
  {
   "cell_type": "code",
   "execution_count": null,
   "metadata": {},
   "outputs": [],
   "source": [
    "#找出降价幅度大的房子\n",
    "f=df[((df['guaPai']-df['totalPrice'])/df['guaPai']>0.05) & (df['dealDate'].map(lambda x:x.year)==2021)].sort_values(by=['title','dealDate'])\n",
    "f['chazhi']=round((f['guaPai']-f['totalPrice'])/f['guaPai'],2)"
   ]
  },
  {
   "cell_type": "code",
   "execution_count": null,
   "metadata": {},
   "outputs": [],
   "source": [
    "#找出各个销售的销售量，目前看工人村单个销售卖的还真多\n",
    "s=df.groupby(['seller'])[['seller']].count()\n",
    "s.index.name='num'\n",
    "s.sort_values(by=['seller'],ascending=False)\n",
    "s.head()"
   ]
  },
  {
   "cell_type": "code",
   "execution_count": null,
   "metadata": {
    "pycharm": {
     "name": "#%%\n"
    }
   },
   "outputs": [],
   "source": [
    "#找出各小区的销售数量，先忽略时间\n",
    "# xiaoqu=df.groupby(['title'])[['title']].count()\n",
    "xiaoqu=df['title'].groupby([df['title'],df['dealDate'].apply(lambda x:x.year)]).count()\n",
    "xiaoqu.index.names=['title','year']\n",
    "result=list(set(list(map(lambda x:re.search('悦泰(\\w+)?',x),xiaoqu.index.levels[0]))))\n",
    "result.remove(None)\n",
    "r=[i.group() for i in result]\n"
   ]
  },
  {
   "cell_type": "code",
   "execution_count": null,
   "metadata": {},
   "outputs": [],
   "source": [
    "s1=xiaoqu.loc[r[1]]\n",
    "s2=xiaoqu.loc[r[0]]\n",
    "s1.name=r[1]\n",
    "s2.name=r[0]\n",
    "print(s1,s2)\n"
   ]
  },
  {
   "cell_type": "code",
   "execution_count": null,
   "metadata": {},
   "outputs": [],
   "source": [
    "#找出某个小区的销售情况\n",
    "print(get_data('第五郡五号地'))\n",
    "df_wu=df[df['title'].apply(lambda x: '第五郡' in x and '公寓' not in x)]\n",
    "df_wu=df_wu.sort_values(by='dealDate')\n",
    "df_wu=df_wu.reset_index(drop=True)\n",
    "func=lambda x:str((x.year)*100+(x.month))[0:4]+'-'+str((x.year)*100+(x.month))[4:]\n",
    "df_wu['month']=df_wu['dealDate'].map(func)\n",
    "df_wu['title'].groupby(df_wu['month']).count()\n",
    "# df[df['title']=='金海花园西园'][['title']].count()"
   ]
  },
  {
   "cell_type": "code",
   "execution_count": null,
   "metadata": {},
   "outputs": [],
   "source": [
    "#找出小区每年均价，按月标本太少，不太准确\n",
    "df_wu['unitPrice'].groupby(df_wu['dealDate'].map(lambda x:x.year)).describe()"
   ]
  },
  {
   "cell_type": "code",
   "execution_count": null,
   "metadata": {},
   "outputs": [],
   "source": [
    "#找出小区的成交周期\n",
    "df_wu['dealCycle'].groupby(df_wu['dealDate'].apply(lambda x:x.year)).describe()"
   ]
  },
  {
   "cell_type": "code",
   "execution_count": null,
   "metadata": {},
   "outputs": [],
   "source": [
    "#找出房子里只有一天成交周期的房子\n",
    "df[(df['dealCycle'].map(lambda x:x==1)) & (df['dealDate'].apply(lambda x:x.year)==2021)].head()"
   ]
  },
  {
   "cell_type": "code",
   "execution_count": null,
   "metadata": {},
   "outputs": [],
   "source": [
    "#备用功能        \n",
    "# list=[]\n",
    "# for i in df['title'].drop_duplicates():\n",
    "#     g=get_data(i)\n",
    "#     if g is not None:\n",
    "#         list.append(g)\n",
    "\n",
    "# %run main.py\n",
    "#df.to_json(path_or_buf='data/test.json',orient='index',force_ascii=False)\n",
    "#检查area数据\n",
    "# for i in range(0,len(df)):\n",
    "#     result=df.iloc[i]\n",
    "#     if re.search(r'\\d+(\\.\\d+)?(平米)',result[2]) is None:\n",
    "#         print(df.iloc[i])\n",
    "#         df.drop([i])\n",
    "# #检查挂牌数据\n",
    "# for i in range(0,len(df)):\n",
    "#     result=df.iloc[i]\n",
    "#     if re.search('挂牌*',result[7]) is None:\n",
    "#         print(str(i))\n",
    "        # df.drop([i])"
   ]
  },
  {
   "cell_type": "code",
   "execution_count": 16,
   "metadata": {},
   "outputs": [
    {
     "output_type": "execute_result",
     "data": {
      "text/plain": [
       "            count          mean          std     min       25%      50%  \\\n",
       "dealDate                                                                  \n",
       "2007          1.0   6526.000000          NaN  6526.0   6526.00   6526.0   \n",
       "2009          2.0   6819.500000  2312.946281  5184.0   6001.75   6819.5   \n",
       "2010          5.0  12219.400000  2995.088863  9944.0  10399.00  10657.0   \n",
       "2011        311.0  13109.012862  3712.703479  7827.0  10591.00  12119.0   \n",
       "2012        969.0  11756.955624  3071.132418  5073.0   9640.00  10968.0   \n",
       "2013       1196.0  12435.205686  3236.581713  6352.0  10097.00  11500.0   \n",
       "2014        809.0  11971.007417  3237.322643  5604.0   9626.00  11032.0   \n",
       "2015       1823.0  11374.232035  3576.385799  4266.0   8858.50  10365.0   \n",
       "2016       7730.0  10114.846572  4165.222990  3050.0   7866.50   9264.5   \n",
       "2017      12410.0  10842.420226  4336.281539  1834.0   8166.00   9933.5   \n",
       "2018      12589.0  12033.056160  4818.683399  3487.0   8740.00  11006.0   \n",
       "2019      15852.0  12854.646417  5076.039573  2008.0   9217.00  12076.5   \n",
       "2020      17915.0  13691.954228  5876.524765  1705.0   9608.00  12903.0   \n",
       "2021      10511.0  14895.846542  6064.318374     2.0  10454.50  14103.0   \n",
       "\n",
       "               75%       max  \n",
       "dealDate                      \n",
       "2007       6526.00    6526.0  \n",
       "2009       7637.25    8455.0  \n",
       "2010      12934.00   17163.0  \n",
       "2011      14520.50   34729.0  \n",
       "2012      13086.00   27738.0  \n",
       "2013      14180.50   27496.0  \n",
       "2014      13951.00   27103.0  \n",
       "2015      13549.00   34846.0  \n",
       "2016      11272.75  128409.0  \n",
       "2017      12299.75  105216.0  \n",
       "2018      13962.00   94424.0  \n",
       "2019      14839.00   60580.0  \n",
       "2020      15867.50   65225.0  \n",
       "2021      17367.50   61788.0  "
      ],
      "text/html": "<div>\n<style scoped>\n    .dataframe tbody tr th:only-of-type {\n        vertical-align: middle;\n    }\n\n    .dataframe tbody tr th {\n        vertical-align: top;\n    }\n\n    .dataframe thead th {\n        text-align: right;\n    }\n</style>\n<table border=\"1\" class=\"dataframe\">\n  <thead>\n    <tr style=\"text-align: right;\">\n      <th></th>\n      <th>count</th>\n      <th>mean</th>\n      <th>std</th>\n      <th>min</th>\n      <th>25%</th>\n      <th>50%</th>\n      <th>75%</th>\n      <th>max</th>\n    </tr>\n    <tr>\n      <th>dealDate</th>\n      <th></th>\n      <th></th>\n      <th></th>\n      <th></th>\n      <th></th>\n      <th></th>\n      <th></th>\n      <th></th>\n    </tr>\n  </thead>\n  <tbody>\n    <tr>\n      <th>2007</th>\n      <td>1.0</td>\n      <td>6526.000000</td>\n      <td>NaN</td>\n      <td>6526.0</td>\n      <td>6526.00</td>\n      <td>6526.0</td>\n      <td>6526.00</td>\n      <td>6526.0</td>\n    </tr>\n    <tr>\n      <th>2009</th>\n      <td>2.0</td>\n      <td>6819.500000</td>\n      <td>2312.946281</td>\n      <td>5184.0</td>\n      <td>6001.75</td>\n      <td>6819.5</td>\n      <td>7637.25</td>\n      <td>8455.0</td>\n    </tr>\n    <tr>\n      <th>2010</th>\n      <td>5.0</td>\n      <td>12219.400000</td>\n      <td>2995.088863</td>\n      <td>9944.0</td>\n      <td>10399.00</td>\n      <td>10657.0</td>\n      <td>12934.00</td>\n      <td>17163.0</td>\n    </tr>\n    <tr>\n      <th>2011</th>\n      <td>311.0</td>\n      <td>13109.012862</td>\n      <td>3712.703479</td>\n      <td>7827.0</td>\n      <td>10591.00</td>\n      <td>12119.0</td>\n      <td>14520.50</td>\n      <td>34729.0</td>\n    </tr>\n    <tr>\n      <th>2012</th>\n      <td>969.0</td>\n      <td>11756.955624</td>\n      <td>3071.132418</td>\n      <td>5073.0</td>\n      <td>9640.00</td>\n      <td>10968.0</td>\n      <td>13086.00</td>\n      <td>27738.0</td>\n    </tr>\n    <tr>\n      <th>2013</th>\n      <td>1196.0</td>\n      <td>12435.205686</td>\n      <td>3236.581713</td>\n      <td>6352.0</td>\n      <td>10097.00</td>\n      <td>11500.0</td>\n      <td>14180.50</td>\n      <td>27496.0</td>\n    </tr>\n    <tr>\n      <th>2014</th>\n      <td>809.0</td>\n      <td>11971.007417</td>\n      <td>3237.322643</td>\n      <td>5604.0</td>\n      <td>9626.00</td>\n      <td>11032.0</td>\n      <td>13951.00</td>\n      <td>27103.0</td>\n    </tr>\n    <tr>\n      <th>2015</th>\n      <td>1823.0</td>\n      <td>11374.232035</td>\n      <td>3576.385799</td>\n      <td>4266.0</td>\n      <td>8858.50</td>\n      <td>10365.0</td>\n      <td>13549.00</td>\n      <td>34846.0</td>\n    </tr>\n    <tr>\n      <th>2016</th>\n      <td>7730.0</td>\n      <td>10114.846572</td>\n      <td>4165.222990</td>\n      <td>3050.0</td>\n      <td>7866.50</td>\n      <td>9264.5</td>\n      <td>11272.75</td>\n      <td>128409.0</td>\n    </tr>\n    <tr>\n      <th>2017</th>\n      <td>12410.0</td>\n      <td>10842.420226</td>\n      <td>4336.281539</td>\n      <td>1834.0</td>\n      <td>8166.00</td>\n      <td>9933.5</td>\n      <td>12299.75</td>\n      <td>105216.0</td>\n    </tr>\n    <tr>\n      <th>2018</th>\n      <td>12589.0</td>\n      <td>12033.056160</td>\n      <td>4818.683399</td>\n      <td>3487.0</td>\n      <td>8740.00</td>\n      <td>11006.0</td>\n      <td>13962.00</td>\n      <td>94424.0</td>\n    </tr>\n    <tr>\n      <th>2019</th>\n      <td>15852.0</td>\n      <td>12854.646417</td>\n      <td>5076.039573</td>\n      <td>2008.0</td>\n      <td>9217.00</td>\n      <td>12076.5</td>\n      <td>14839.00</td>\n      <td>60580.0</td>\n    </tr>\n    <tr>\n      <th>2020</th>\n      <td>17915.0</td>\n      <td>13691.954228</td>\n      <td>5876.524765</td>\n      <td>1705.0</td>\n      <td>9608.00</td>\n      <td>12903.0</td>\n      <td>15867.50</td>\n      <td>65225.0</td>\n    </tr>\n    <tr>\n      <th>2021</th>\n      <td>10511.0</td>\n      <td>14895.846542</td>\n      <td>6064.318374</td>\n      <td>2.0</td>\n      <td>10454.50</td>\n      <td>14103.0</td>\n      <td>17367.50</td>\n      <td>61788.0</td>\n    </tr>\n  </tbody>\n</table>\n</div>"
     },
     "metadata": {},
     "execution_count": 16
    }
   ],
   "source": [
    "dd=df['unitPrice'].groupby(df['dealDate'].apply(lambda x:x.year)).describe()\n",
    "dd"
   ]
  },
  {
   "cell_type": "code",
   "execution_count": 19,
   "metadata": {},
   "outputs": [
    {
     "output_type": "execute_result",
     "data": {
      "text/plain": [
       "            count          mean          std     min      25%      50%  \\\n",
       "dealDate                                                                 \n",
       "2016       7730.0  10114.846572  4165.222990  3050.0   7866.5   9264.5   \n",
       "2017      12410.0  10842.420226  4336.281539  1834.0   8166.0   9933.5   \n",
       "2018      12589.0  12033.056160  4818.683399  3487.0   8740.0  11006.0   \n",
       "2019      15852.0  12854.646417  5076.039573  2008.0   9217.0  12076.5   \n",
       "2020      17915.0  13691.954228  5876.524765  1705.0   9608.0  12903.0   \n",
       "2021      10511.0  14895.846542  6064.318374     2.0  10454.5  14103.0   \n",
       "\n",
       "               75%       max  \n",
       "dealDate                      \n",
       "2016      11272.75  128409.0  \n",
       "2017      12299.75  105216.0  \n",
       "2018      13962.00   94424.0  \n",
       "2019      14839.00   60580.0  \n",
       "2020      15867.50   65225.0  \n",
       "2021      17367.50   61788.0  "
      ],
      "text/html": "<div>\n<style scoped>\n    .dataframe tbody tr th:only-of-type {\n        vertical-align: middle;\n    }\n\n    .dataframe tbody tr th {\n        vertical-align: top;\n    }\n\n    .dataframe thead th {\n        text-align: right;\n    }\n</style>\n<table border=\"1\" class=\"dataframe\">\n  <thead>\n    <tr style=\"text-align: right;\">\n      <th></th>\n      <th>count</th>\n      <th>mean</th>\n      <th>std</th>\n      <th>min</th>\n      <th>25%</th>\n      <th>50%</th>\n      <th>75%</th>\n      <th>max</th>\n    </tr>\n    <tr>\n      <th>dealDate</th>\n      <th></th>\n      <th></th>\n      <th></th>\n      <th></th>\n      <th></th>\n      <th></th>\n      <th></th>\n      <th></th>\n    </tr>\n  </thead>\n  <tbody>\n    <tr>\n      <th>2016</th>\n      <td>7730.0</td>\n      <td>10114.846572</td>\n      <td>4165.222990</td>\n      <td>3050.0</td>\n      <td>7866.5</td>\n      <td>9264.5</td>\n      <td>11272.75</td>\n      <td>128409.0</td>\n    </tr>\n    <tr>\n      <th>2017</th>\n      <td>12410.0</td>\n      <td>10842.420226</td>\n      <td>4336.281539</td>\n      <td>1834.0</td>\n      <td>8166.0</td>\n      <td>9933.5</td>\n      <td>12299.75</td>\n      <td>105216.0</td>\n    </tr>\n    <tr>\n      <th>2018</th>\n      <td>12589.0</td>\n      <td>12033.056160</td>\n      <td>4818.683399</td>\n      <td>3487.0</td>\n      <td>8740.0</td>\n      <td>11006.0</td>\n      <td>13962.00</td>\n      <td>94424.0</td>\n    </tr>\n    <tr>\n      <th>2019</th>\n      <td>15852.0</td>\n      <td>12854.646417</td>\n      <td>5076.039573</td>\n      <td>2008.0</td>\n      <td>9217.0</td>\n      <td>12076.5</td>\n      <td>14839.00</td>\n      <td>60580.0</td>\n    </tr>\n    <tr>\n      <th>2020</th>\n      <td>17915.0</td>\n      <td>13691.954228</td>\n      <td>5876.524765</td>\n      <td>1705.0</td>\n      <td>9608.0</td>\n      <td>12903.0</td>\n      <td>15867.50</td>\n      <td>65225.0</td>\n    </tr>\n    <tr>\n      <th>2021</th>\n      <td>10511.0</td>\n      <td>14895.846542</td>\n      <td>6064.318374</td>\n      <td>2.0</td>\n      <td>10454.5</td>\n      <td>14103.0</td>\n      <td>17367.50</td>\n      <td>61788.0</td>\n    </tr>\n  </tbody>\n</table>\n</div>"
     },
     "metadata": {},
     "execution_count": 19
    }
   ],
   "source": [
    "dd[dd.index>2015]"
   ]
  },
  {
   "cell_type": "code",
   "execution_count": null,
   "metadata": {},
   "outputs": [],
   "source": []
  }
 ],
 "metadata": {
  "kernelspec": {
   "name": "python385jvsc74a57bd0223bd14866ffeb92c99d57734aa4342c19e51b08ac2aeca58a1a344b6189e706",
   "display_name": "Python 3.8.5 64-bit ('base': conda)"
  },
  "language_info": {
   "codemirror_mode": {
    "name": "ipython",
    "version": 3
   },
   "file_extension": ".py",
   "mimetype": "text/x-python",
   "name": "python",
   "nbconvert_exporter": "python",
   "pygments_lexer": "ipython3",
   "version": "3.8.5"
  }
 },
 "nbformat": 4,
 "nbformat_minor": 2
}